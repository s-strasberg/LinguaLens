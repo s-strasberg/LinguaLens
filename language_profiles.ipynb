{
  "nbformat": 4,
  "nbformat_minor": 0,
  "metadata": {
    "colab": {
      "provenance": [],
      "authorship_tag": "ABX9TyMqAyepj4lTqEj75il9yj6A",
      "include_colab_link": true
    },
    "kernelspec": {
      "name": "python3",
      "display_name": "Python 3"
    },
    "language_info": {
      "name": "python"
    }
  },
  "cells": [
    {
      "cell_type": "markdown",
      "metadata": {
        "id": "view-in-github",
        "colab_type": "text"
      },
      "source": [
        "<a href=\"https://colab.research.google.com/github/s-strasberg/LinguaLens/blob/sawyer-unicode-profiles/language_profiles.ipynb\" target=\"_parent\"><img src=\"https://colab.research.google.com/assets/colab-badge.svg\" alt=\"Open In Colab\"/></a>"
      ]
    },
    {
      "cell_type": "code",
      "execution_count": null,
      "metadata": {
        "id": "411VVAvfW3aV"
      },
      "outputs": [],
      "source": [
        "from collections import Counter #trying to figure out this 'collections' package\n",
        "from text_cleaner import clean_text\n",
        "\n",
        "def languages(text):\n",
        "    text = clean_text(text)\n",
        "    counter = Counter(text)\n",
        "    total = sum(counter.values())\n",
        "    return {#here i need a way to detect the frequency of each character/code value?#}\n"
      ]
    }
  ]
}