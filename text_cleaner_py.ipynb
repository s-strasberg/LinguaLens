{
  "nbformat": 4,
  "nbformat_minor": 0,
  "metadata": {
    "colab": {
      "provenance": [],
      "authorship_tag": "ABX9TyMBf12fqEeVh5E8lUgx/OjV",
      "include_colab_link": true
    },
    "kernelspec": {
      "name": "python3",
      "display_name": "Python 3"
    },
    "language_info": {
      "name": "python"
    }
  },
  "cells": [
    {
      "cell_type": "markdown",
      "metadata": {
        "id": "view-in-github",
        "colab_type": "text"
      },
      "source": [
        "<a href=\"https://colab.research.google.com/github/s-strasberg/LinguaLens/blob/liliana-data-preprocessing/text_cleaner_py.ipynb\" target=\"_parent\"><img src=\"https://colab.research.google.com/assets/colab-badge.svg\" alt=\"Open In Colab\"/></a>"
      ]
    },
    {
      "cell_type": "code",
      "execution_count": 1,
      "metadata": {
        "id": "R8gnTeO0xoEo"
      },
      "outputs": [],
      "source": [
        "import re\n",
        "\n",
        "def clean_text(text):\n",
        "# Lowercases all characters, removes punctuation, digits, and non-letter characters, preserves accented Latin characters and CJK (Chinese, Japanese, Korean) characters\n",
        "    text = text.lower()\n",
        "    cleaned = re.sub(r'[^a-zA-ZÀ-ÿ\\u4e00-\\u9fff\\u3040-\\u30ff\\s]', '', text)\n",
        "    # Collapse multiple spaces into one\n",
        "    cleaned = re.sub(r'\\s+', ' ', cleaned).strip()\n",
        "    return cleaned\n",
        "\n",
        "def tokenize(text):\n",
        "# Splitting whitespace, returns token characters\n",
        "    return text.split()\n"
      ]
    }
  ]
}